{
  "nbformat": 4,
  "nbformat_minor": 0,
  "metadata": {
    "colab": {
      "provenance": []
    },
    "kernelspec": {
      "name": "python3",
      "display_name": "Python 3"
    },
    "language_info": {
      "name": "python"
    }
  },
  "cells": [
    {
      "cell_type": "code",
      "execution_count": null,
      "metadata": {
        "id": "4zXL3UZJXWEe"
      },
      "outputs": [],
      "source": [
        "class Dog:\n",
        "    def __init__(self, name, age, breed):\n",
        "        self.name = name\n",
        "        self.age = age\n",
        "        self.breed = breed\n",
        "        self.custom_method = \"I like snacks\"\n",
        "        self.PI = 3.142857\n",
        "\n",
        "    def bark(self):\n",
        "        print(\"I can bark\")\n",
        "\n",
        "    def eat(self):\n",
        "        print(self.custom_method)\n",
        "        print(\"I can eat\")\n",
        "\n",
        "    def sleep(self):\n",
        "        print(\"I can sleep\")\n",
        "\n",
        "    def some_calc(self):\n",
        "        print(self.PI)"
      ]
    },
    {
      "cell_type": "code",
      "source": [
        "dog_1 = Dog(\"abcd\", 8, \"German Sheperd\")"
      ],
      "metadata": {
        "id": "LNdF957yXmQi"
      },
      "execution_count": null,
      "outputs": []
    },
    {
      "cell_type": "code",
      "source": [
        "dog_1.sleep()"
      ],
      "metadata": {
        "colab": {
          "base_uri": "https://localhost:8080/"
        },
        "id": "eO8PPKL7Xs_8",
        "outputId": "555e1ed8-98a4-49b9-9d40-63113c5f87a0"
      },
      "execution_count": null,
      "outputs": [
        {
          "output_type": "stream",
          "name": "stdout",
          "text": [
            "I can sleep\n"
          ]
        }
      ]
    },
    {
      "cell_type": "code",
      "source": [
        "dog_1.name"
      ],
      "metadata": {
        "colab": {
          "base_uri": "https://localhost:8080/",
          "height": 35
        },
        "id": "9gpDNvvhXwAv",
        "outputId": "fbd29549-1839-4d39-9295-c473d6fac9f6"
      },
      "execution_count": null,
      "outputs": [
        {
          "output_type": "execute_result",
          "data": {
            "text/plain": [
              "'abcd'"
            ],
            "application/vnd.google.colaboratory.intrinsic+json": {
              "type": "string"
            }
          },
          "metadata": {},
          "execution_count": 8
        }
      ]
    },
    {
      "cell_type": "code",
      "source": [
        "dog_2 = Dog(\"cutie\", 6, \"pug\")"
      ],
      "metadata": {
        "id": "qTsN06g2X0j8"
      },
      "execution_count": null,
      "outputs": []
    },
    {
      "cell_type": "code",
      "source": [
        "dog_2.eat()"
      ],
      "metadata": {
        "colab": {
          "base_uri": "https://localhost:8080/"
        },
        "id": "jdkDlf3WX_9R",
        "outputId": "75387850-9ded-4991-977f-106ef926853b"
      },
      "execution_count": null,
      "outputs": [
        {
          "output_type": "stream",
          "name": "stdout",
          "text": [
            "I like snacks\n",
            "I can eat\n"
          ]
        }
      ]
    },
    {
      "cell_type": "code",
      "source": [
        "dog_2.some_calc()"
      ],
      "metadata": {
        "colab": {
          "base_uri": "https://localhost:8080/"
        },
        "id": "TcrXOfdmYPvo",
        "outputId": "71b2f89c-8435-4649-fe1d-3d4509f36869"
      },
      "execution_count": null,
      "outputs": [
        {
          "output_type": "stream",
          "name": "stdout",
          "text": [
            "3.142857\n"
          ]
        }
      ]
    },
    {
      "cell_type": "code",
      "source": [
        "class math:\n",
        "    def __init__(self):\n",
        "        self.PI = 3.142857\n",
        "\n",
        "    def area_of_circle(self, radius):\n",
        "        return self.PI * (radius**2)\n",
        "\n",
        "    def circum_of_circle(self, radius):\n",
        "        return 2 * self.PI * radius"
      ],
      "metadata": {
        "id": "fhf4YVQsaHhm"
      },
      "execution_count": null,
      "outputs": []
    },
    {
      "cell_type": "code",
      "source": [
        "my_math = math()"
      ],
      "metadata": {
        "id": "pAAyF23Paa64"
      },
      "execution_count": null,
      "outputs": []
    },
    {
      "cell_type": "code",
      "source": [
        "my_math.area_of_circle(5)"
      ],
      "metadata": {
        "colab": {
          "base_uri": "https://localhost:8080/"
        },
        "id": "d32rXEHmadPH",
        "outputId": "4855c796-6b07-4bcd-f635-aab00aa2ee9c"
      },
      "execution_count": null,
      "outputs": [
        {
          "output_type": "execute_result",
          "data": {
            "text/plain": [
              "78.57142499999999"
            ]
          },
          "metadata": {},
          "execution_count": 36
        }
      ]
    },
    {
      "cell_type": "code",
      "source": [
        "my_math.circum_of_circle(7)"
      ],
      "metadata": {
        "colab": {
          "base_uri": "https://localhost:8080/"
        },
        "id": "LuCyZn6mae9K",
        "outputId": "0d8a8f6f-daf7-46f9-8c79-26717f871919"
      },
      "execution_count": null,
      "outputs": [
        {
          "output_type": "execute_result",
          "data": {
            "text/plain": [
              "43.999998"
            ]
          },
          "metadata": {},
          "execution_count": 37
        }
      ]
    },
    {
      "cell_type": "code",
      "source": [
        "class InterestRates:\n",
        "    def __init__(self, principal, rate, time):\n",
        "        self.principal = principal\n",
        "        self.rate = rate\n",
        "        self.time = time\n",
        "\n",
        "    def simple_interest(self):\n",
        "        interest = (self.principal * self.time * (self.rate/100))/100\n",
        "        total_amount = self.principal + interest\n",
        "        total_months = self.time/12\n",
        "        emi = total_amount*total_months\n",
        "\n",
        "        return interest, total_amount, emi"
      ],
      "metadata": {
        "id": "myN6f2l9asMr"
      },
      "execution_count": null,
      "outputs": []
    },
    {
      "cell_type": "markdown",
      "source": [],
      "metadata": {
        "id": "kgSgsZFdcXrR"
      }
    },
    {
      "cell_type": "code",
      "source": [
        "interest_calculator = InterestRates(10000, 5, 1)"
      ],
      "metadata": {
        "id": "_erYkRSlc6VP"
      },
      "execution_count": null,
      "outputs": []
    },
    {
      "cell_type": "code",
      "source": [
        "interest_calculator.simple_interest()"
      ],
      "metadata": {
        "colab": {
          "base_uri": "https://localhost:8080/"
        },
        "id": "or_xjgOddCXm",
        "outputId": "0f13735e-94e6-4161-85e0-015bce33a972"
      },
      "execution_count": null,
      "outputs": [
        {
          "output_type": "execute_result",
          "data": {
            "text/plain": [
              "(5.0, 10005.0, 833.75)"
            ]
          },
          "metadata": {},
          "execution_count": 48
        }
      ]
    },
    {
      "cell_type": "code",
      "source": [
        "833.75*12"
      ],
      "metadata": {
        "colab": {
          "base_uri": "https://localhost:8080/"
        },
        "id": "63LA5WA6dDN-",
        "outputId": "c8c5eecf-59ea-4938-8bf3-46ce7ea78cfc"
      },
      "execution_count": null,
      "outputs": [
        {
          "output_type": "execute_result",
          "data": {
            "text/plain": [
              "10005.0"
            ]
          },
          "metadata": {},
          "execution_count": 49
        }
      ]
    },
    {
      "cell_type": "code",
      "source": [
        "class student:\n",
        "    def __init__(self, name, age, fav_subject = \"Physics\"):\n",
        "        self.name = name\n",
        "        self.age = age\n",
        "        self.subject = fav_subject\n",
        "\n",
        "    sport = \"cricket\"\n",
        "\n",
        "    def introduction(self):\n",
        "        print(f\"Hi my name is {self.name}, I am {self.age} years old and my favourite subject is {self.subject}.\")"
      ],
      "metadata": {
        "id": "jWUCV8pDdZYY"
      },
      "execution_count": null,
      "outputs": []
    },
    {
      "cell_type": "code",
      "source": [
        "roll_one = student(\"Arun\", 18)"
      ],
      "metadata": {
        "id": "GfC46VQ8e5EG"
      },
      "execution_count": null,
      "outputs": []
    },
    {
      "cell_type": "code",
      "source": [
        "roll_one.name = \"Arun Kumar\""
      ],
      "metadata": {
        "id": "g2U3ApkEfavS"
      },
      "execution_count": null,
      "outputs": []
    },
    {
      "cell_type": "code",
      "source": [
        "roll_one.introduction()"
      ],
      "metadata": {
        "colab": {
          "base_uri": "https://localhost:8080/"
        },
        "id": "MK0vBPtQhl43",
        "outputId": "07028430-a93e-41c1-9e58-1a5647e139b5"
      },
      "execution_count": null,
      "outputs": [
        {
          "output_type": "stream",
          "name": "stdout",
          "text": [
            "Hi my name is Arun Kumar, I am 18 years old and my favourite subject is Physics.\n"
          ]
        }
      ]
    },
    {
      "cell_type": "code",
      "source": [
        "class student:\n",
        "    def __init__(self, age):\n",
        "        self.age = age\n",
        "\n",
        "    def __setattr__(self, key, value):\n",
        "        if key == \"name\":\n",
        "            raise AttributeError(\"You cannot set the name attribute\")\n",
        "        super().__setattr__(key, value)"
      ],
      "metadata": {
        "id": "VfMIM7PAhn_f"
      },
      "execution_count": null,
      "outputs": []
    },
    {
      "cell_type": "code",
      "source": [
        "s = student(20)"
      ],
      "metadata": {
        "id": "MZf68a8fjuxh"
      },
      "execution_count": null,
      "outputs": []
    },
    {
      "cell_type": "code",
      "source": [
        "s.age"
      ],
      "metadata": {
        "colab": {
          "base_uri": "https://localhost:8080/"
        },
        "id": "XlThNKSujwkl",
        "outputId": "c09836a8-659c-4b59-891c-2a76e8fffa28"
      },
      "execution_count": null,
      "outputs": [
        {
          "output_type": "execute_result",
          "data": {
            "text/plain": [
              "20"
            ]
          },
          "metadata": {},
          "execution_count": 93
        }
      ]
    },
    {
      "cell_type": "code",
      "source": [
        "s.name = \"Arjun\""
      ],
      "metadata": {
        "colab": {
          "base_uri": "https://localhost:8080/",
          "height": 241
        },
        "id": "7F1Z3tUSjxPZ",
        "outputId": "288bde3e-3bd8-4dec-af4d-853c3cc70405"
      },
      "execution_count": null,
      "outputs": [
        {
          "output_type": "error",
          "ename": "AttributeError",
          "evalue": "You cannot set the name attribute",
          "traceback": [
            "\u001b[0;31m---------------------------------------------------------------------------\u001b[0m",
            "\u001b[0;31mAttributeError\u001b[0m                            Traceback (most recent call last)",
            "\u001b[0;32m/tmp/ipython-input-1556198480.py\u001b[0m in \u001b[0;36m<cell line: 0>\u001b[0;34m()\u001b[0m\n\u001b[0;32m----> 1\u001b[0;31m \u001b[0ms\u001b[0m\u001b[0;34m.\u001b[0m\u001b[0mname\u001b[0m \u001b[0;34m=\u001b[0m \u001b[0;34m\"Arjun\"\u001b[0m\u001b[0;34m\u001b[0m\u001b[0;34m\u001b[0m\u001b[0m\n\u001b[0m",
            "\u001b[0;32m/tmp/ipython-input-152762215.py\u001b[0m in \u001b[0;36m__setattr__\u001b[0;34m(self, key, value)\u001b[0m\n\u001b[1;32m      5\u001b[0m     \u001b[0;32mdef\u001b[0m \u001b[0m__setattr__\u001b[0m\u001b[0;34m(\u001b[0m\u001b[0mself\u001b[0m\u001b[0;34m,\u001b[0m \u001b[0mkey\u001b[0m\u001b[0;34m,\u001b[0m \u001b[0mvalue\u001b[0m\u001b[0;34m)\u001b[0m\u001b[0;34m:\u001b[0m\u001b[0;34m\u001b[0m\u001b[0;34m\u001b[0m\u001b[0m\n\u001b[1;32m      6\u001b[0m         \u001b[0;32mif\u001b[0m \u001b[0mkey\u001b[0m \u001b[0;34m==\u001b[0m \u001b[0;34m\"name\"\u001b[0m\u001b[0;34m:\u001b[0m\u001b[0;34m\u001b[0m\u001b[0;34m\u001b[0m\u001b[0m\n\u001b[0;32m----> 7\u001b[0;31m             \u001b[0;32mraise\u001b[0m \u001b[0mAttributeError\u001b[0m\u001b[0;34m(\u001b[0m\u001b[0;34m\"You cannot set the name attribute\"\u001b[0m\u001b[0;34m)\u001b[0m\u001b[0;34m\u001b[0m\u001b[0;34m\u001b[0m\u001b[0m\n\u001b[0m\u001b[1;32m      8\u001b[0m         \u001b[0msuper\u001b[0m\u001b[0;34m(\u001b[0m\u001b[0;34m)\u001b[0m\u001b[0;34m.\u001b[0m\u001b[0m__setattr__\u001b[0m\u001b[0;34m(\u001b[0m\u001b[0mkey\u001b[0m\u001b[0;34m,\u001b[0m \u001b[0mvalue\u001b[0m\u001b[0;34m)\u001b[0m\u001b[0;34m\u001b[0m\u001b[0;34m\u001b[0m\u001b[0m\n",
            "\u001b[0;31mAttributeError\u001b[0m: You cannot set the name attribute"
          ]
        }
      ]
    },
    {
      "cell_type": "code",
      "source": [
        "class Encapsulation:\n",
        "    def __init__(self, a, b, c):\n",
        "        self.public = a\n",
        "        self._protected = b\n",
        "        self.__private = c\n",
        "\n",
        "    def set_private(self, value):\n",
        "        self.__private = value\n",
        "\n",
        "    def get_private(self):\n",
        "        return self.__private"
      ],
      "metadata": {
        "id": "PFn2nWLFjy5_"
      },
      "execution_count": null,
      "outputs": []
    },
    {
      "cell_type": "code",
      "source": [
        "class student:\n",
        "    def __init__(self, name, age):\n",
        "        self.name = name\n",
        "        self.__age = age\n",
        "\n",
        "    @property\n",
        "    def age(self):\n",
        "        return self.__age\n",
        "\n",
        "    # @age.setter\n",
        "    # def age(self, value):\n",
        "    #     if value < 0:\n",
        "    #         raise ValueError(\"Age cannot be negative\")\n",
        "    #     self.__age = value"
      ],
      "metadata": {
        "id": "2fYGmqBMo9QV"
      },
      "execution_count": null,
      "outputs": []
    },
    {
      "cell_type": "code",
      "source": [
        "s = student(\"Arun\", 20)"
      ],
      "metadata": {
        "id": "Kc9fe6CopXRO"
      },
      "execution_count": null,
      "outputs": []
    },
    {
      "cell_type": "code",
      "source": [
        "print(s.age)"
      ],
      "metadata": {
        "colab": {
          "base_uri": "https://localhost:8080/"
        },
        "id": "_d1i9mPxpaqh",
        "outputId": "a912e39c-c4e4-48de-c9c4-ef093371a483"
      },
      "execution_count": null,
      "outputs": [
        {
          "output_type": "stream",
          "name": "stdout",
          "text": [
            "20\n"
          ]
        }
      ]
    },
    {
      "cell_type": "code",
      "source": [
        "s.age = 10"
      ],
      "metadata": {
        "colab": {
          "base_uri": "https://localhost:8080/",
          "height": 139
        },
        "id": "tvtfzgcipdP7",
        "outputId": "4e9d2e85-2f2c-4fd5-b1e0-de521725cc35"
      },
      "execution_count": null,
      "outputs": [
        {
          "output_type": "error",
          "ename": "AttributeError",
          "evalue": "property 'age' of 'student' object has no setter",
          "traceback": [
            "\u001b[0;31m---------------------------------------------------------------------------\u001b[0m",
            "\u001b[0;31mAttributeError\u001b[0m                            Traceback (most recent call last)",
            "\u001b[0;32m/tmp/ipython-input-2728925528.py\u001b[0m in \u001b[0;36m<cell line: 0>\u001b[0;34m()\u001b[0m\n\u001b[0;32m----> 1\u001b[0;31m \u001b[0ms\u001b[0m\u001b[0;34m.\u001b[0m\u001b[0mage\u001b[0m \u001b[0;34m=\u001b[0m \u001b[0;36m10\u001b[0m\u001b[0;34m\u001b[0m\u001b[0;34m\u001b[0m\u001b[0m\n\u001b[0m",
            "\u001b[0;31mAttributeError\u001b[0m: property 'age' of 'student' object has no setter"
          ]
        }
      ]
    },
    {
      "cell_type": "code",
      "source": [
        "s.age"
      ],
      "metadata": {
        "colab": {
          "base_uri": "https://localhost:8080/"
        },
        "id": "aZXYaED8pfaC",
        "outputId": "f54800d7-3a37-464f-cfde-43149460565d"
      },
      "execution_count": null,
      "outputs": [
        {
          "output_type": "execute_result",
          "data": {
            "text/plain": [
              "-10"
            ]
          },
          "metadata": {},
          "execution_count": 123
        }
      ]
    },
    {
      "cell_type": "code",
      "source": [
        "class student:\n",
        "    def __init__(self, name, age):\n",
        "        self.name = name\n",
        "        self.age = age"
      ],
      "metadata": {
        "id": "ErmJw4b4w5QA"
      },
      "execution_count": null,
      "outputs": []
    },
    {
      "cell_type": "code",
      "source": [
        "st1 = student(\"Arun\", 20)"
      ],
      "metadata": {
        "id": "JJUBpKOYydXZ"
      },
      "execution_count": null,
      "outputs": []
    },
    {
      "cell_type": "code",
      "source": [
        "# st1.age = 21"
      ],
      "metadata": {
        "id": "-8zoQdW9y5ZY"
      },
      "execution_count": null,
      "outputs": []
    },
    {
      "cell_type": "code",
      "source": [
        "st1.age"
      ],
      "metadata": {
        "colab": {
          "base_uri": "https://localhost:8080/"
        },
        "id": "5oaZPlU8zBE_",
        "outputId": "a206efb8-d8ab-402b-c62c-90c02c06797d"
      },
      "execution_count": null,
      "outputs": [
        {
          "output_type": "execute_result",
          "data": {
            "text/plain": [
              "20"
            ]
          },
          "metadata": {},
          "execution_count": 198
        }
      ]
    },
    {
      "cell_type": "code",
      "source": [
        "class NewStudent:\n",
        "    def __init__(self, name, age):\n",
        "        self.name = name\n",
        "        self.__age = age\n",
        "\n",
        "    @property\n",
        "    def age(self):\n",
        "        return self.__age"
      ],
      "metadata": {
        "id": "Cj05k0pYyj1l"
      },
      "execution_count": null,
      "outputs": []
    },
    {
      "cell_type": "code",
      "source": [
        "st2 = NewStudent(\"Arun\", 20)"
      ],
      "metadata": {
        "id": "fnC3R5sbyscJ"
      },
      "execution_count": null,
      "outputs": []
    },
    {
      "cell_type": "code",
      "source": [
        "st2.age"
      ],
      "metadata": {
        "colab": {
          "base_uri": "https://localhost:8080/"
        },
        "id": "cPwkCmDFze8m",
        "outputId": "7e0486ce-7307-4d22-8fd0-c8a954c6bef8"
      },
      "execution_count": null,
      "outputs": [
        {
          "output_type": "execute_result",
          "data": {
            "text/plain": [
              "20"
            ]
          },
          "metadata": {},
          "execution_count": 256
        }
      ]
    },
    {
      "cell_type": "code",
      "source": [
        "st2.age = 10"
      ],
      "metadata": {
        "colab": {
          "base_uri": "https://localhost:8080/",
          "height": 139
        },
        "id": "xCYBZo1Yz4uU",
        "outputId": "61f31dc7-ec39-4a98-a3f2-5f0614d7762b"
      },
      "execution_count": null,
      "outputs": [
        {
          "output_type": "error",
          "ename": "AttributeError",
          "evalue": "property 'age' of 'NewStudent' object has no setter",
          "traceback": [
            "\u001b[0;31m---------------------------------------------------------------------------\u001b[0m",
            "\u001b[0;31mAttributeError\u001b[0m                            Traceback (most recent call last)",
            "\u001b[0;32m/tmp/ipython-input-3332829361.py\u001b[0m in \u001b[0;36m<cell line: 0>\u001b[0;34m()\u001b[0m\n\u001b[0;32m----> 1\u001b[0;31m \u001b[0mst2\u001b[0m\u001b[0;34m.\u001b[0m\u001b[0mage\u001b[0m \u001b[0;34m=\u001b[0m \u001b[0;36m10\u001b[0m\u001b[0;34m\u001b[0m\u001b[0;34m\u001b[0m\u001b[0m\n\u001b[0m",
            "\u001b[0;31mAttributeError\u001b[0m: property 'age' of 'NewStudent' object has no setter"
          ]
        }
      ]
    },
    {
      "cell_type": "code",
      "source": [
        "st2.age"
      ],
      "metadata": {
        "colab": {
          "base_uri": "https://localhost:8080/"
        },
        "id": "QJUfjy451Boq",
        "outputId": "29786bce-c278-49d7-8303-eb60dc4756ce"
      },
      "execution_count": null,
      "outputs": [
        {
          "output_type": "execute_result",
          "data": {
            "text/plain": [
              "10"
            ]
          },
          "metadata": {},
          "execution_count": 239
        }
      ]
    },
    {
      "cell_type": "code",
      "source": [
        "class A:\n",
        "    def __init__(self, a):\n",
        "        self.a = a\n",
        "\n",
        "    def b(self):\n",
        "        print(\"I am B\")"
      ],
      "metadata": {
        "id": "k5ACcHYE1Cpz"
      },
      "execution_count": null,
      "outputs": []
    },
    {
      "cell_type": "code",
      "source": [
        "a = A(\"c\")"
      ],
      "metadata": {
        "id": "MhVlHwFR2rwz"
      },
      "execution_count": null,
      "outputs": []
    },
    {
      "cell_type": "code",
      "source": [
        "a.b()"
      ],
      "metadata": {
        "colab": {
          "base_uri": "https://localhost:8080/"
        },
        "id": "VQmRvP1M2s_q",
        "outputId": "5259d568-fd71-4aea-cfd9-9bf48d416710"
      },
      "execution_count": null,
      "outputs": [
        {
          "output_type": "stream",
          "name": "stdout",
          "text": [
            "I am B\n"
          ]
        }
      ]
    },
    {
      "cell_type": "code",
      "source": [
        "a.a"
      ],
      "metadata": {
        "colab": {
          "base_uri": "https://localhost:8080/",
          "height": 35
        },
        "id": "oEdOx3bb22wu",
        "outputId": "10dd6c1d-2cdf-408d-829b-90c8e713ca1a"
      },
      "execution_count": null,
      "outputs": [
        {
          "output_type": "execute_result",
          "data": {
            "text/plain": [
              "'c'"
            ],
            "application/vnd.google.colaboratory.intrinsic+json": {
              "type": "string"
            }
          },
          "metadata": {},
          "execution_count": 263
        }
      ]
    },
    {
      "cell_type": "code",
      "source": [
        "class BasicMath:\n",
        "    def __init__(self):\n",
        "        pass\n",
        "\n",
        "    def add(self, lst):\n",
        "        return sum(lst)\n",
        "\n",
        "    def multiply(self, lst):\n",
        "        result = 1\n",
        "        for num in lst:\n",
        "            result *= num\n",
        "        return result"
      ],
      "metadata": {
        "id": "DlScdnDI235m"
      },
      "execution_count": null,
      "outputs": []
    },
    {
      "cell_type": "code",
      "source": [
        "math = BasicMath()"
      ],
      "metadata": {
        "id": "WhuoeRIy4L0s"
      },
      "execution_count": null,
      "outputs": []
    },
    {
      "cell_type": "code",
      "source": [
        "math.add([1, 2, 3, 4])"
      ],
      "metadata": {
        "colab": {
          "base_uri": "https://localhost:8080/"
        },
        "id": "61UWm2jm4PBP",
        "outputId": "a4894d8d-47ee-4dcf-8f47-1e4603321562"
      },
      "execution_count": null,
      "outputs": [
        {
          "output_type": "execute_result",
          "data": {
            "text/plain": [
              "10"
            ]
          },
          "metadata": {},
          "execution_count": 266
        }
      ]
    },
    {
      "cell_type": "code",
      "source": [
        "class BasicMath2:\n",
        "    def __init__(self):\n",
        "        pass\n",
        "\n",
        "    def add(self, lst):\n",
        "        return lst[-1]"
      ],
      "metadata": {
        "id": "xVzQIazE8N-u"
      },
      "execution_count": null,
      "outputs": []
    },
    {
      "cell_type": "code",
      "source": [],
      "metadata": {
        "id": "4YRVq3qm_WT-"
      },
      "execution_count": null,
      "outputs": []
    },
    {
      "cell_type": "code",
      "source": [
        "class AdvMath(BasicMath, BasicMath2):\n",
        "    def __init__(self):\n",
        "        pass\n",
        "\n",
        "    # def add(self, lst):\n",
        "    #     result = lst[0] * 2\n",
        "    #     return result\n",
        "    '''\n",
        "    given a list of all numbers,\n",
        "    add all the numbers = c, multiply all the number = d\n",
        "    return c+d\n",
        "\n",
        "    '''\n",
        "    # def add(self, lst):\n",
        "    #     return lst[0]\n",
        "\n",
        "    def result(self, lst):\n",
        "        c = BasicMath2.add(self, lst)\n",
        "        return c\n",
        "\n",
        "    def demo(self):\n",
        "        print(\"Do something\")"
      ],
      "metadata": {
        "id": "HBmwXSDB4SoD"
      },
      "execution_count": null,
      "outputs": []
    },
    {
      "cell_type": "code",
      "source": [
        "advMath = AdvMath()"
      ],
      "metadata": {
        "id": "4tuAjTDx42Ka"
      },
      "execution_count": null,
      "outputs": []
    },
    {
      "cell_type": "code",
      "source": [
        "advMath.result([1,2,3,4,5])"
      ],
      "metadata": {
        "colab": {
          "base_uri": "https://localhost:8080/"
        },
        "id": "39_ZBHiC47JJ",
        "outputId": "663f69c1-f9da-456c-dbad-eaecf82a2d04"
      },
      "execution_count": null,
      "outputs": [
        {
          "output_type": "execute_result",
          "data": {
            "text/plain": [
              "15"
            ]
          },
          "metadata": {},
          "execution_count": 334
        }
      ]
    },
    {
      "cell_type": "code",
      "source": [
        "15 + 120"
      ],
      "metadata": {
        "id": "k6F0_IVT9HI7"
      },
      "execution_count": null,
      "outputs": []
    },
    {
      "cell_type": "code",
      "source": [
        "'''\n",
        "\n",
        "BasicMath --> Parent\n",
        "AdvMath --> Child\n",
        "\n",
        "'''"
      ],
      "metadata": {
        "colab": {
          "base_uri": "https://localhost:8080/",
          "height": 35
        },
        "id": "f8_7x4vT5EHR",
        "outputId": "f30306b0-1ff2-4cc5-ea37-f7be51cf2c05"
      },
      "execution_count": null,
      "outputs": [
        {
          "output_type": "execute_result",
          "data": {
            "text/plain": [
              "'\\n\\nBasicMath --> Parent\\nAdvMath --> Child\\n\\n'"
            ],
            "application/vnd.google.colaboratory.intrinsic+json": {
              "type": "string"
            }
          },
          "metadata": {},
          "execution_count": 299
        }
      ]
    },
    {
      "cell_type": "code",
      "source": [
        "class Bird:\n",
        "    def sound(self):\n",
        "        return \"chirp\"\n",
        "\n",
        "class Parrot(Bird):\n",
        "    pass\n",
        "\n",
        "class Penguin(Bird):\n",
        "    def sound(self):\n",
        "        return \"Squeek\""
      ],
      "metadata": {
        "id": "V9KxZLvd5yHB"
      },
      "execution_count": null,
      "outputs": []
    },
    {
      "cell_type": "code",
      "source": [
        "bird1 = Parrot()\n",
        "bird2 = Penguin()\n",
        "\n",
        "print(bird1.sound())\n",
        "print(bird2.sound())"
      ],
      "metadata": {
        "colab": {
          "base_uri": "https://localhost:8080/"
        },
        "id": "gLA7RF0JBFHC",
        "outputId": "5fac04d7-c1ef-40a6-ad09-fe84f283bc1e"
      },
      "execution_count": null,
      "outputs": [
        {
          "output_type": "stream",
          "name": "stdout",
          "text": [
            "chirp\n",
            "Squeek\n"
          ]
        }
      ]
    },
    {
      "cell_type": "code",
      "source": [
        "birds = [Parrot(), Penguin()]"
      ],
      "metadata": {
        "id": "l8QUsd6ODGRk"
      },
      "execution_count": null,
      "outputs": []
    },
    {
      "cell_type": "code",
      "source": [
        "for bird in birds:\n",
        "    print(bird.sound())"
      ],
      "metadata": {
        "colab": {
          "base_uri": "https://localhost:8080/"
        },
        "id": "rBDBP4loBLer",
        "outputId": "ff0710e7-b56b-45ae-fbf4-32e5a5fba42a"
      },
      "execution_count": null,
      "outputs": [
        {
          "output_type": "stream",
          "name": "stdout",
          "text": [
            "chirp\n",
            "Squeek\n"
          ]
        }
      ]
    },
    {
      "cell_type": "code",
      "source": [
        "from abc import ABC, abstractmethod"
      ],
      "metadata": {
        "id": "fOpArm0bBPX2"
      },
      "execution_count": null,
      "outputs": []
    },
    {
      "cell_type": "code",
      "source": [
        "class Bird(ABC):\n",
        "    def __init__(self):\n",
        "        pass\n",
        "    @abstractmethod\n",
        "    def sound(self):\n",
        "        print(\"chirp\")"
      ],
      "metadata": {
        "id": "rNcrsPIxEUXy"
      },
      "execution_count": null,
      "outputs": []
    },
    {
      "cell_type": "code",
      "source": [],
      "metadata": {
        "colab": {
          "base_uri": "https://localhost:8080/",
          "height": 139
        },
        "id": "o9qN9tcKEbji",
        "outputId": "d442289a-3a02-4dc7-fcc3-eafb33fe0ff1"
      },
      "execution_count": null,
      "outputs": [
        {
          "output_type": "error",
          "ename": "TypeError",
          "evalue": "Bird.sound() missing 1 required positional argument: 'self'",
          "traceback": [
            "\u001b[0;31m---------------------------------------------------------------------------\u001b[0m",
            "\u001b[0;31mTypeError\u001b[0m                                 Traceback (most recent call last)",
            "\u001b[0;32m/tmp/ipython-input-1038562911.py\u001b[0m in \u001b[0;36m<cell line: 0>\u001b[0;34m()\u001b[0m\n\u001b[0;32m----> 1\u001b[0;31m \u001b[0mBird\u001b[0m\u001b[0;34m.\u001b[0m\u001b[0msound\u001b[0m\u001b[0;34m(\u001b[0m\u001b[0;34m)\u001b[0m\u001b[0;34m\u001b[0m\u001b[0;34m\u001b[0m\u001b[0m\n\u001b[0m",
            "\u001b[0;31mTypeError\u001b[0m: Bird.sound() missing 1 required positional argument: 'self'"
          ]
        }
      ]
    },
    {
      "cell_type": "code",
      "source": [
        "b.sound()"
      ],
      "metadata": {
        "colab": {
          "base_uri": "https://localhost:8080/"
        },
        "id": "CyRTpJNuEevo",
        "outputId": "28daa8d3-7e73-4c29-cbe8-822df77f987d"
      },
      "execution_count": null,
      "outputs": [
        {
          "output_type": "stream",
          "name": "stdout",
          "text": [
            "chirp\n"
          ]
        }
      ]
    },
    {
      "cell_type": "code",
      "source": [],
      "metadata": {
        "id": "7W2-QOt_EzCe"
      },
      "execution_count": null,
      "outputs": []
    }
  ]
}
